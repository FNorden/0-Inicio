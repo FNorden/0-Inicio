{
  "nbformat": 4,
  "nbformat_minor": 0,
  "metadata": {
    "colab": {
      "provenance": [],
      "authorship_tag": "ABX9TyPdafGTji97qQIj6gfM5Xdm",
      "include_colab_link": true
    },
    "kernelspec": {
      "name": "python3",
      "display_name": "Python 3"
    },
    "language_info": {
      "name": "python"
    }
  },
  "cells": [
    {
      "cell_type": "markdown",
      "metadata": {
        "id": "view-in-github",
        "colab_type": "text"
      },
      "source": [
        "<a href=\"https://colab.research.google.com/github/FNorden/0-Inicio/blob/main/Aprendiendo_sobre_Markdown.ipynb\" target=\"_parent\"><img src=\"https://colab.research.google.com/assets/colab-badge.svg\" alt=\"Open In Colab\"/></a>"
      ]
    },
    {
      "cell_type": "markdown",
      "source": [
        "![SIC](https://innovationcampus.cl/wp-content/uploads/2025/05/Innovation-Campus-1200x627-1.jpg)"
      ],
      "metadata": {
        "id": "pRRsZrYef7hg"
      }
    },
    {
      "cell_type": "markdown",
      "source": [
        "#PROYECTO: SAMSUNG INNOVATION CAMPUS\n",
        "######Introducción de Python  \n",
        "\n",
        "##CAPITULO 1\n",
        ""
      ],
      "metadata": {
        "id": "upi9Q75Kemf0"
      }
    },
    {
      "cell_type": "markdown",
      "source": [],
      "metadata": {
        "id": "tOdlEjHsgGIK"
      }
    },
    {
      "cell_type": "markdown",
      "source": [],
      "metadata": {
        "id": "Qeftesm0ekyp"
      }
    },
    {
      "cell_type": "code",
      "execution_count": 1,
      "metadata": {
        "id": "EyuMfCV8cwan"
      },
      "outputs": [],
      "source": []
    }
  ]
}